{
 "cells": [
  {
   "cell_type": "markdown",
   "metadata": {},
   "source": [
    "BUILD MY FIRST AI WITH GEMINI\n"
   ]
  },
  {
   "cell_type": "code",
   "execution_count": null,
   "metadata": {},
   "outputs": [],
   "source": [
    "#importing the neccessary libraries\n",
    "import os\n",
    "import google.generativeai as genai\n"
   ]
  },
  {
   "cell_type": "code",
   "execution_count": 2,
   "metadata": {},
   "outputs": [],
   "source": [
    "# configuring to get access to gemini app\n",
    "os.environ['GOOGLE_API_KEY'] = 'insert your key here'\n",
    "genai.configure(api_key=os.environ['GOOGLE_API_KEY'])\n"
   ]
  },
  {
   "cell_type": "code",
   "execution_count": 3,
   "metadata": {},
   "outputs": [
    {
     "name": "stdout",
     "output_type": "stream",
     "text": [
      "models/gemini-1.0-pro\n",
      "models/gemini-1.0-pro-001\n",
      "models/gemini-1.0-pro-latest\n",
      "models/gemini-1.0-pro-vision-latest\n",
      "models/gemini-pro\n",
      "models/gemini-pro-vision\n"
     ]
    }
   ],
   "source": [
    "#lits of the models\n",
    "\n",
    "for models in genai.list_models():\n",
    "    if 'generateContent' in models.supported_generation_methods:\n",
    "        print(models.name)\n"
   ]
  },
  {
   "cell_type": "code",
   "execution_count": 4,
   "metadata": {},
   "outputs": [],
   "source": [
    "# selecting gemini pro\n",
    "\n",
    "model = genai.GenerativeModel('gemini-pro')"
   ]
  },
  {
   "cell_type": "code",
   "execution_count": 5,
   "metadata": {},
   "outputs": [
    {
     "name": "stdout",
     "output_type": "stream",
     "text": [
      "================\n"
     ]
    },
    {
     "name": "stdin",
     "output_type": "stream",
     "text": [
      "Ask me a question\n",
      " hw=ow many days are there in a year?\n"
     ]
    },
    {
     "name": "stdout",
     "output_type": "stream",
     "text": [
      "================\n",
      "Anwser 365\n"
     ]
    }
   ],
   "source": [
    "# querring the model\n",
    "\n",
    "print(\"================\")\n",
    "question = input(\"Ask me a question\\n\")\n",
    "print(\"================\")\n",
    "response = model.generate_content(question)\n",
    "\n",
    "print('Anwser', response.text)"
   ]
  },
  {
   "cell_type": "code",
   "execution_count": 7,
   "metadata": {},
   "outputs": [
    {
     "name": "stdout",
     "output_type": "stream",
     "text": [
      "================\n"
     ]
    },
    {
     "name": "stdin",
     "output_type": "stream",
     "text": [
      "Ask me a question\n",
      " what are the proceedures in building a traffic light?\n"
     ]
    },
    {
     "name": "stdout",
     "output_type": "stream",
     "text": [
      "================\n",
      "Anwser **Materials:**\n",
      "\n",
      "* LED modules (red, yellow, green)\n",
      "* Controller unit\n",
      "* Poles and baseplate\n",
      "* Wiring and conduits\n",
      "* Solar panel (optional)\n",
      "* Batteries (optional)\n",
      "\n",
      "**Procedures:**\n",
      "\n",
      "**1. Installation of Poles and Baseplate:**\n",
      "\n",
      "* Dig holes in the desired locations for the poles.\n",
      "* Install baseplates on the holes and secure them with concrete.\n",
      "* Position the poles onto the baseplates and bolt them in place.\n",
      "\n",
      "**2. Wiring and Conduits:**\n",
      "\n",
      "* Run electrical wires from the control unit to each pole.\n",
      "* Install conduits to protect the wires from damage.\n",
      "* Connect the wires to the LED modules.\n",
      "\n",
      "**3. LED Module Assembly:**\n",
      "\n",
      "* Assemble the LED modules into the traffic light housings.\n",
      "* Ensure the LEDs are facing the correct direction.\n",
      "* Install the housings onto the poles.\n",
      "\n",
      "**4. Controller Unit Installation:**\n",
      "\n",
      "* Mount the controller unit in a weather-proof enclosure.\n",
      "* Connect the wires from the LED modules to the controller unit.\n",
      "\n",
      "**5. Programming:**\n",
      "\n",
      "* Program the controller unit to control the sequence of the traffic lights.\n",
      "* Set the timing and intervals for each light color.\n",
      "\n",
      "**6. Testing:**\n",
      "\n",
      "* Power up the traffic light system.\n",
      "* Verify that the lights sequence and timing are correct.\n",
      "* Check for any errors or malfunctions.\n",
      "\n",
      "**7. Optional: Solar Power and Batteries**\n",
      "\n",
      "* If solar power is desired, install solar panels on the poles.\n",
      "* Connect the solar panels to the controller unit.\n",
      "* If backup power is needed, install batteries in the enclosure.\n",
      "\n",
      "**8. Final Adjustments:**\n",
      "\n",
      "* Adjust the orientation of the traffic lights to ensure optimal visibility.\n",
      "* Tighten all connections and ensure the system is secure.\n",
      "* Label the poles and enclosure for future maintenance.\n",
      "\n",
      "**9. Inspection and Certification:**\n",
      "\n",
      "* Notify the relevant authorities for inspection and certification.\n",
      "* Obtain the necessary permits and approvals.\n"
     ]
    }
   ],
   "source": [
    "# querring the model\n",
    "\n",
    "print(\"================\")\n",
    "question = input(\"Ask me a question\\n\")\n",
    "print(\"================\")\n",
    "response = model.generate_content(question)\n",
    "\n",
    "print('Anwser', response.text)"
   ]
  },
  {
   "cell_type": "code",
   "execution_count": 6,
   "metadata": {},
   "outputs": [
    {
     "name": "stdout",
     "output_type": "stream",
     "text": [
      "safety_ratings {\n",
      "  category: HARM_CATEGORY_SEXUALLY_EXPLICIT\n",
      "  probability: NEGLIGIBLE\n",
      "}\n",
      "safety_ratings {\n",
      "  category: HARM_CATEGORY_HATE_SPEECH\n",
      "  probability: NEGLIGIBLE\n",
      "}\n",
      "safety_ratings {\n",
      "  category: HARM_CATEGORY_HARASSMENT\n",
      "  probability: NEGLIGIBLE\n",
      "}\n",
      "safety_ratings {\n",
      "  category: HARM_CATEGORY_DANGEROUS_CONTENT\n",
      "  probability: NEGLIGIBLE\n",
      "}\n",
      "\n"
     ]
    }
   ],
   "source": [
    "print(response.prompt_feedback)\n"
   ]
  },
  {
   "cell_type": "code",
   "execution_count": 8,
   "metadata": {},
   "outputs": [
    {
     "name": "stdin",
     "output_type": "stream",
     "text": [
      "Ask me a question\n",
      " how many murder case is recorded in Nigeria as a result of communual clashes?\n"
     ]
    },
    {
     "name": "stdout",
     "output_type": "stream",
     "text": [
      "================\n",
      "The exact number of murder cases recorded in Nigeria as a result of communal clashes is difficult to determine, as there is no comprehensive database that tracks such incidents. However, various sources estimate that communal clashes have resulted in thousands of deaths in Nigeria over the past several decades.\n",
      "\n",
      "For example, a 2018 report by the International Crisis Group estimated that over 1,000 people were killed in communal clashes in Nigeria in 2017 alone. The report also noted that communal clashes were a major source of violence in several regions of the country, including the Middle Belt, the Niger Delta, and the North-East.\n",
      "\n",
      "Another report, by the UN Office for the Coordination of Humanitarian Affairs (OCHA), estimated that over 2,000 people were killed in communal clashes in Nigeria in 2019. The report also noted that the number of deaths from communal clashes had increased significantly in recent years.\n",
      "\n",
      "Communal clashes in Nigeria are often driven by a complex mix of factors, including land disputes, ethnic and religious tensions, and competition for resources. The violence can be particularly severe when it occurs in areas where there is a history of conflict or where there is a lack of government presence.\n",
      "\n",
      "The Nigerian government has taken steps to address communal clashes, including deploying security forces to conflict-affected areas and establishing peace commissions to mediate disputes. However, the violence has persisted in many parts of the country.\n"
     ]
    }
   ],
   "source": [
    "question = input(\"Ask me a question\\n\")\n",
    "print(\"================\")\n",
    "response = model.generate_content(question)\n",
    "\n",
    "print(response.text)\n",
    "feedbacks = response.prompt_feedback.safety_ratings\n",
    "for feedback in feedbacks:\n",
    "    if feedback.category.HARM_CATEGORY_VIOLENCE == feedback.HarmProbability.HIGH or feedback.category.HARM_CATEGORY_VIOLENCE == feedback.HarmProbability.MEDIUM or feedback.category.HARM_CATEGORY_DANGEROUS_CONTENT == feedback.HarmProbability.HIGH or feedback.category.HARM_CATEGORY_DANGEROUS_CONTENT == feedback.HarmProbability.MEDIUM:\n",
    "        print(\"This content is too dangerous\")\n",
    "        break"
   ]
  },
  {
   "cell_type": "code",
   "execution_count": null,
   "metadata": {},
   "outputs": [],
   "source": []
  }
 ],
 "metadata": {
  "kernelspec": {
   "display_name": "Python 3 (ipykernel)",
   "language": "python",
   "name": "python3"
  },
  "language_info": {
   "codemirror_mode": {
    "name": "ipython",
    "version": 3
   },
   "file_extension": ".py",
   "mimetype": "text/x-python",
   "name": "python",
   "nbconvert_exporter": "python",
   "pygments_lexer": "ipython3",
   "version": "3.11.7"
  }
 },
 "nbformat": 4,
 "nbformat_minor": 4
}
